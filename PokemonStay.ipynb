{
 "cells": [
  {
   "cell_type": "markdown",
   "metadata": {},
   "source": [
    "This is my first project on Git Hub and is using python lists, dictionaries and fucntions.\n",
    "\n",
    "*Author : Ayesha Khatib*"
   ]
  },
  {
   "cell_type": "markdown",
   "metadata": {},
   "source": [
    "### About the Project building : \"Pokemon Stay\"\n",
    "\n",
    "---\n",
    "You are an analyst at a \"scrappy\" online gaming company that specializes in remakes of last year's fads.\n",
    "\n",
    "Your boss, who runs the product development team, is convinced that Pokemon Go's fatal flaw was that you had to actually move around outside. She has design mock-ups for a new game called Pokemon Stay: in this version players still need to move, but just from website to website. Pokemon gyms are now popular online destinations, and catching Pokemon in the \"wild\" simply requires browsing the internet for hours in the comfort of your home.\n",
    "\n",
    "She wants you to program a prototype version of the game, and analyze the planned content to help the team calibrate the design."
   ]
  },
  {
   "cell_type": "markdown",
   "metadata": {},
   "source": [
    "#### Package imports"
   ]
  },
  {
   "cell_type": "code",
   "execution_count": 1,
   "metadata": {},
   "outputs": [],
   "source": [
    "import pandas as pd\n",
    "import numpy as np\n",
    "import statistics\n",
    "\n",
    "# python print package for printing variables and objects.\n",
    "from pprint import pprint\n"
   ]
  },
  {
   "cell_type": "markdown",
   "metadata": {},
   "source": [
    "## 1. Defining a player\n",
    "\n",
    "---\n",
    "\n",
    "The player variables are:\n",
    "\n",
    "    player_id : id code unique to each player (integer)\n",
    "    player_name : entered name of the player (string)\n",
    "    time_played : number of time played the game in minutes (float)\n",
    "    player_pokemon: the player's captured pokemon (dictionary)\n",
    "    gyms_visited: ids of the gyms that a player has visited (list)\n",
    "    \n",
    "Create the components for a player object by defining each of these variables. The dictionary and list variables should just be defined as empty; you can use any (correctly typed) values for the others."
   ]
  },
  {
   "cell_type": "code",
   "execution_count": 2,
   "metadata": {},
   "outputs": [],
   "source": [
    "# 1. Defining player variables.\n",
    "\n",
    "player_id = 0           # data type set to integer\n",
    "player_name = ' '       # data type set to string\n",
    "time_played = 0.0       # data type set to float\n",
    "player_pokemon = {}     # empty dictionary\n",
    "gyms_visited = []       # empty list"
   ]
  },
  {
   "cell_type": "markdown",
   "metadata": {},
   "source": [
    "## 2. Defining \"gym\" locations\n",
    "\n",
    "---\n",
    "\n",
    "As the sole programmer, Pokemon Stay will have to start small. To begin, there will be 10 different gym location websites on the internet. The gym locations are:\n",
    "\n",
    "    1. 'reddit.com'\n",
    "    2. 'amazon.com'\n",
    "    3. 'twitter.com'\n",
    "    4. 'linkedin.com'\n",
    "    5. 'ebay.com'\n",
    "    6. 'netflix.com'\n",
    "    7. 'amazon.com'\n",
    "    8. 'stackoverflow.com'\n",
    "    9. 'github.com'\n",
    "    10. 'quora.com'\n",
    "\n",
    "1. Set up a list of all the gym locations. This will be a list of strings."
   ]
  },
  {
   "cell_type": "code",
   "execution_count": 8,
   "metadata": {},
   "outputs": [
    {
     "name": "stdout",
     "output_type": "stream",
     "text": [
      "---------------------------------------------------\n",
      "The gym location websites are :  ['reddit.com', 'amazon.com', 'twitter.com', 'linkedin.com', 'ebay.com', 'netflix.com', 'amaze.com', 'stackoverflow.com', 'github.com', 'quora.com']\n",
      "\n",
      "<class 'list'>\n",
      "\n",
      "The number of gym locations are : 10\n",
      "---------------------------------------------------\n"
     ]
    }
   ],
   "source": [
    "# 2.1 Define the gym locations websites in a list.\n",
    "\n",
    "gyms = ['reddit.com','amazon.com','twitter.com','linkedin.com','ebay.com','netflix.com','amaze.com','stackoverflow.com','github.com','quora.com']\n",
    "\n",
    "# print and verify.\n",
    "print(\"---------------------------------------------------\")\n",
    "print(\"The gym location websites are : \", gyms)\n",
    "print()\n",
    "print(type(gyms))\n",
    "print()\n",
    "print(\"The number of gym locations are :\" , len(gyms))\n",
    "print(\"---------------------------------------------------\")"
   ]
  },
  {
   "cell_type": "markdown",
   "metadata": {},
   "source": [
    "2. Append two of these locations to your player's list of visited gyms."
   ]
  },
  {
   "cell_type": "code",
   "execution_count": 10,
   "metadata": {},
   "outputs": [
    {
     "name": "stdout",
     "output_type": "stream",
     "text": [
      "['github.com', 'quora.com']\n",
      "0 github.com\n",
      "1 quora.com\n"
     ]
    }
   ],
   "source": [
    "# 2.2 Adding two gym location websites in a list using index values.\n",
    "\n",
    "# Initializa a new list for adding two gym locations\n",
    "gyms_visited = []\n",
    "# last two elements or any from the gyms using the -2 index value.\n",
    "gyms_visited = gyms[-2:]"
   ]
  },
  {
   "cell_type": "markdown",
   "metadata": {},
   "source": [
    "3. Print the list."
   ]
  },
  {
   "cell_type": "code",
   "execution_count": 11,
   "metadata": {},
   "outputs": [
    {
     "name": "stdout",
     "output_type": "stream",
     "text": [
      "The new list is :  ['github.com', 'quora.com']\n"
     ]
    }
   ],
   "source": [
    "print(\"The new list is : \", gyms_visited)"
   ]
  },
  {
   "cell_type": "code",
   "execution_count": 13,
   "metadata": {},
   "outputs": [
    {
     "name": "stdout",
     "output_type": "stream",
     "text": [
      "0 github.com\n",
      "1 quora.com\n"
     ]
    }
   ],
   "source": [
    "# Option 2 : \n",
    "\n",
    "# 2.3 Print the list index and values using a for loop.\n",
    "for index, value in enumerate(gyms_visited):\n",
    "    print(index, value)"
   ]
  },
  {
   "cell_type": "markdown",
   "metadata": {},
   "source": [
    "\n",
    "## 3. Create a pokedex\n",
    "\n",
    "---\n",
    "\n",
    "We also need to create some pokemon to catch. Each pokemon will be defined by these variables:\n",
    "\n",
    "    pokemon_id : unique identifier for each pokemon (integer)\n",
    "    name : the name of the pokemon (string)\n",
    "    type : the category of pokemon (string)\n",
    "    hp : base hitpoints (integer)\n",
    "    attack : base attack (integer)\n",
    "    defense : base defense (integer)\n",
    "    special_attack : base special attack (integer)\n",
    "    special_defense : base sepecial defense (integer)\n",
    "    speed : base speed (integer)\n",
    "\n",
    "We are only going to create 3 different pokemon with these `pokemon_id` and `pokemon_name` values:\n",
    "\n",
    "    1 : 'charmander'\n",
    "    2 : 'squirtle'\n",
    "    3 : 'bulbasaur'\n",
    "\n",
    "Create a dictionary that will contain the pokemon. The keys of the dictionary will be the `pokemon_id` and the values will themselves dictionaries that contain the other pokemon variables. The structure of the pokedex dictionary will start like so:\n",
    "     \n",
    "     {\n",
    "         1: {\n",
    "                 'name':'charmander',\n",
    "                 'type':'fire',\n",
    "                 ...\n",
    "                 \n",
    "The `type` of charmander, squirtle, and bulbasaur should be `'fire'`, `'water'`, and `'poison'` respectively. The other values are up to you, make them anything you like!\n",
    "\n",
    "Print (or pretty print) the pokedex dictionary with the 3 pokemon."
   ]
  },
  {
   "cell_type": "code",
   "execution_count": 14,
   "metadata": {},
   "outputs": [
    {
     "name": "stdout",
     "output_type": "stream",
     "text": [
      "{1: {'attack': 100,\n",
      "     'defense': 50,\n",
      "     'hp': 1000,\n",
      "     'name': 'squirtle',\n",
      "     'special_attack': 80,\n",
      "     'special_defense': 150,\n",
      "     'speed': 250,\n",
      "     'type': 'fire'},\n",
      " 2: {'attack': 200,\n",
      "     'defense': 100,\n",
      "     'hp': 2000,\n",
      "     'name': 'charmander',\n",
      "     'special_attack': 160,\n",
      "     'special_defense': 150,\n",
      "     'speed': 350,\n",
      "     'type': 'water'},\n",
      " 3: {'attack': 300,\n",
      "     'defense': 150,\n",
      "     'hp': 3000,\n",
      "     'name': 'bulbasaur',\n",
      "     'special_attack': 240,\n",
      "     'special_defense': 200,\n",
      "     'speed': 450,\n",
      "     'type': 'poison'}}\n"
     ]
    }
   ],
   "source": [
    "# 3. Creating pokedex dictionary with pokemon variables.\n",
    "\n",
    "pokedex = { 1 :   {'name':'squirtle',\n",
    "                   'type':'fire',\n",
    "                   'hp': 1000, \n",
    "                   'attack':100, \n",
    "                   'defense':50, \n",
    "                   'special_attack':80,\n",
    "                   'special_defense':150, \n",
    "                   'speed':250},\n",
    "           \n",
    "              2 : {'name':'charmander',\n",
    "                   'type':'water',\n",
    "                   'hp': 2000, \n",
    "                   'attack':200, \n",
    "                   'defense':100,\n",
    "                   'special_defense':150, \n",
    "                   'special_attack':160,\n",
    "                   'speed':350},\n",
    "           \n",
    "              3 : {'name':'bulbasaur',\n",
    "                   'type':'poison',\n",
    "                   'hp': 3000, \n",
    "                   'attack':300, \n",
    "                   'defense':150,\n",
    "                   'special_defense':200 ,\n",
    "                   'special_attack':240,\n",
    "                   'speed':450}\n",
    "          }\n",
    "\n",
    "\n",
    "pprint(pokedex)"
   ]
  },
  {
   "cell_type": "code",
   "execution_count": 15,
   "metadata": {},
   "outputs": [
    {
     "data": {
      "text/plain": [
       "dict"
      ]
     },
     "execution_count": 15,
     "metadata": {},
     "output_type": "execute_result"
    }
   ],
   "source": [
    "type(pokedex)"
   ]
  },
  {
   "cell_type": "code",
   "execution_count": 20,
   "metadata": {},
   "outputs": [
    {
     "data": {
      "text/plain": [
       "{'name': 'bulbasaur',\n",
       " 'type': 'poison',\n",
       " 'hp': 3000,\n",
       " 'attack': 300,\n",
       " 'defense': 150,\n",
       " 'special_defense': 200,\n",
       " 'special_attack': 240,\n",
       " 'speed': 450}"
      ]
     },
     "execution_count": 20,
     "metadata": {},
     "output_type": "execute_result"
    }
   ],
   "source": [
    "pokedex[3]"
   ]
  },
  {
   "cell_type": "code",
   "execution_count": 19,
   "metadata": {},
   "outputs": [
    {
     "data": {
      "text/plain": [
       "250"
      ]
     },
     "execution_count": 19,
     "metadata": {},
     "output_type": "execute_result"
    }
   ],
   "source": [
    "pokedex[1]['speed']"
   ]
  },
  {
   "cell_type": "markdown",
   "metadata": {},
   "source": [
    "## 4. Create a data structure for players\n",
    "\n",
    "---\n",
    "\n",
    "### 4.1 \n",
    "\n",
    "In order to maintain a database of multiple players, create a dictionary that keeps track of players indexed by `player_id`. \n",
    "\n",
    "The keys of the dictionary will be `player_id` and values will be dictionaries containing each player's variables (from question 1). \n",
    "\n",
    "Construct the `players` dictionary and insert the player that you defined in question 1, then print `players`."
   ]
  },
  {
   "cell_type": "code",
   "execution_count": 29,
   "metadata": {},
   "outputs": [
    {
     "data": {
      "text/plain": [
       "{1: {'player_id': 1,\n",
       "  'player_name': 'RAY',\n",
       "  'time_played': 15.5,\n",
       "  'player_pokemon': {1: {'name': 'squirtle',\n",
       "    'type': 'fire',\n",
       "    'hp': 1000,\n",
       "    'attack': 100,\n",
       "    'defense': 50,\n",
       "    'special_attack': 80,\n",
       "    'special_defense': 150,\n",
       "    'speed': 250},\n",
       "   2: {'name': 'charmander',\n",
       "    'type': 'water',\n",
       "    'hp': 2000,\n",
       "    'attack': 200,\n",
       "    'defense': 100,\n",
       "    'special_defense': 150,\n",
       "    'special_attack': 160,\n",
       "    'speed': 350},\n",
       "   3: {'name': 'bulbasaur',\n",
       "    'type': 'poison',\n",
       "    'hp': 3000,\n",
       "    'attack': 300,\n",
       "    'defense': 150,\n",
       "    'special_defense': 200,\n",
       "    'special_attack': 240,\n",
       "    'speed': 450}},\n",
       "  'gyms_visited': ['github.com', 'quora.com']}}"
      ]
     },
     "execution_count": 29,
     "metadata": {},
     "output_type": "execute_result"
    }
   ],
   "source": [
    "# 4.1 Defining players dictionary that holds pokedex dictionary.\n",
    "\n",
    "player_pokemon = { 1 :{ 'player_id': 1,\n",
    "                        'player_name': 'RAY',\n",
    "                        'time_played': 15.5,\n",
    "                        'player_pokemon': pokedex,\n",
    "                        'gyms_visited': gyms_visited}     \n",
    "                 }\n",
    "          \n",
    "player_pokemon"
   ]
  },
  {
   "cell_type": "code",
   "execution_count": 30,
   "metadata": {},
   "outputs": [
    {
     "data": {
      "text/plain": [
       "dict"
      ]
     },
     "execution_count": 30,
     "metadata": {},
     "output_type": "execute_result"
    }
   ],
   "source": [
    "type(player_pokemon)"
   ]
  },
  {
   "cell_type": "code",
   "execution_count": 35,
   "metadata": {},
   "outputs": [
    {
     "data": {
      "text/plain": [
       "{'player_id': 1,\n",
       " 'player_name': 'RAY',\n",
       " 'time_played': 15.5,\n",
       " 'player_pokemon': {1: {'name': 'squirtle',\n",
       "   'type': 'fire',\n",
       "   'hp': 1000,\n",
       "   'attack': 100,\n",
       "   'defense': 50,\n",
       "   'special_attack': 80,\n",
       "   'special_defense': 150,\n",
       "   'speed': 250},\n",
       "  2: {'name': 'charmander',\n",
       "   'type': 'water',\n",
       "   'hp': 2000,\n",
       "   'attack': 200,\n",
       "   'defense': 100,\n",
       "   'special_defense': 150,\n",
       "   'special_attack': 160,\n",
       "   'speed': 350},\n",
       "  3: {'name': 'bulbasaur',\n",
       "   'type': 'poison',\n",
       "   'hp': 3000,\n",
       "   'attack': 300,\n",
       "   'defense': 150,\n",
       "   'special_defense': 200,\n",
       "   'special_attack': 240,\n",
       "   'speed': 450}},\n",
       " 'gyms_visited': ['github.com', 'quora.com']}"
      ]
     },
     "execution_count": 35,
     "metadata": {},
     "output_type": "execute_result"
    }
   ],
   "source": [
    "player_pokemon[1]"
   ]
  },
  {
   "cell_type": "markdown",
   "metadata": {},
   "source": [
    "---\n",
    "\n",
    "### 4.2\n",
    "\n",
    "Create a new player with `player_id = 2` in the `players` dictionary. Leave the `'player_pokemon'` dictionary empty. Append `'alcatraz'` and `'pacific_beach'` to the `'gyms_visited'` list for player 2.\n",
    "\n",
    "The `'player_name'` and `'time_played'` values are up to you, but must be a string and float, respectively.\n",
    "\n",
    "Remember, the player_id is the key for the player in the players dictionary.\n",
    "\n",
    "Print the `players` dictionary with the new player inserted."
   ]
  },
  {
   "cell_type": "code",
   "execution_count": 43,
   "metadata": {},
   "outputs": [
    {
     "data": {
      "text/plain": [
       "['github.com', 'quora.com', 'alcatraz', 'pacific_beach']"
      ]
     },
     "execution_count": 43,
     "metadata": {},
     "output_type": "execute_result"
    }
   ],
   "source": [
    "# 4.2.1 Creating a copy of list 'gyms_visited' locations and storing in new list for player 2.\n",
    "\n",
    "import copy\n",
    "\n",
    "z_gyms = copy.copy(gyms_visited)\n",
    "#print(ZID_gyms)\n",
    "z_gyms.append('alcatraz')\n",
    "z_gyms.append('pacific_beach')\n",
    "\n",
    "z_gyms\n"
   ]
  },
  {
   "cell_type": "code",
   "execution_count": 37,
   "metadata": {},
   "outputs": [
    {
     "data": {
      "text/plain": [
       "{1: {'player_id': 1,\n",
       "  'player_name': 'RAY',\n",
       "  'time_played': 15.5,\n",
       "  'gyms_visited': ['github.com', 'quora.com'],\n",
       "  'player_pokemon': {1: {'name': 'squirtle',\n",
       "    'type': 'fire',\n",
       "    'hp': 1000,\n",
       "    'attack': 100,\n",
       "    'defense': 50,\n",
       "    'special_attack': 80,\n",
       "    'special_defense': 150,\n",
       "    'speed': 250},\n",
       "   2: {'name': 'charmander',\n",
       "    'type': 'water',\n",
       "    'hp': 2000,\n",
       "    'attack': 200,\n",
       "    'defense': 100,\n",
       "    'special_defense': 150,\n",
       "    'special_attack': 160,\n",
       "    'speed': 350},\n",
       "   3: {'name': 'bulbasaur',\n",
       "    'type': 'poison',\n",
       "    'hp': 3000,\n",
       "    'attack': 300,\n",
       "    'defense': 150,\n",
       "    'special_defense': 200,\n",
       "    'special_attack': 240,\n",
       "    'speed': 450}}},\n",
       " 2: {'player_id': 2,\n",
       "  'player_name': 'ZID',\n",
       "  'time_played': '04.60',\n",
       "  'gyms_visited': ['github.com', 'quora.com', 'alcatraz', 'pacific_beach'],\n",
       "  'player_pokemon': {1: {'name': 'squirtle',\n",
       "    'type': 'fire',\n",
       "    'hp': 1000,\n",
       "    'attack': 100,\n",
       "    'defense': 50,\n",
       "    'special_attack': 80,\n",
       "    'special_defense': 150,\n",
       "    'speed': 250},\n",
       "   2: {'name': 'charmander',\n",
       "    'type': 'water',\n",
       "    'hp': 2000,\n",
       "    'attack': 200,\n",
       "    'defense': 100,\n",
       "    'special_defense': 150,\n",
       "    'special_attack': 160,\n",
       "    'speed': 350},\n",
       "   3: {'name': 'bulbasaur',\n",
       "    'type': 'poison',\n",
       "    'hp': 3000,\n",
       "    'attack': 300,\n",
       "    'defense': 150,\n",
       "    'special_defense': 200,\n",
       "    'special_attack': 240,\n",
       "    'speed': 450}}}}"
      ]
     },
     "execution_count": 37,
     "metadata": {},
     "output_type": "execute_result"
    }
   ],
   "source": [
    "# 4.2.2 Defining dictionary players with a player 2.\n",
    "\n",
    "player_pokemon = { 1 :{ 'player_id': 1,\n",
    "                 'player_name': 'RAY',\n",
    "                 'time_played': 15.5,\n",
    "                 'gyms_visited': gyms_visited,\n",
    "                 'player_pokemon': pokedex\n",
    "                 },\n",
    "           \n",
    "             2 : {'player_id' : 2,\n",
    "                  'player_name':'ZID',\n",
    "                  'time_played':'04.60',\n",
    "                  'gyms_visited': z_gyms,\n",
    "                  'player_pokemon': pokedex\n",
    "                  }\n",
    "          } \n",
    "        \n",
    "player_pokemon"
   ]
  },
  {
   "cell_type": "markdown",
   "metadata": {},
   "source": [
    "## 5. Add captured pokemon for each player\n",
    "\n",
    "---\n",
    "\n",
    "The `'player_pokemon'` keyed dictionaries for each player keep track of which of the pokemon each player has.\n",
    "\n",
    "The keys of the `'player_pokemon'` dictionaries are the pokemon ids that correspond to the ids in the `pokedex` dictionary you created earlier. The values are integers specifying the stats for the pokemon.\n",
    "\n",
    "Give player 1 a squirtle. Give player 2 charmander and a bulbasaur.\n",
    "\n",
    "Print the players dictionary after adding the pokemon for each player.\n"
   ]
  },
  {
   "cell_type": "code",
   "execution_count": 40,
   "metadata": {},
   "outputs": [
    {
     "data": {
      "text/plain": [
       "{1: {'player_id': 1,\n",
       "  'player_name': 'RAY',\n",
       "  'time_played': 15.5,\n",
       "  'gyms_visited': ['github.com', 'quora.com'],\n",
       "  'player_pokemon': {1: {'name': 'squirtle',\n",
       "    'type': 'fire',\n",
       "    'hp': 1000,\n",
       "    'attack': 100,\n",
       "    'defense': 50,\n",
       "    'special_attack': 80,\n",
       "    'special_defense': 150,\n",
       "    'speed': 250},\n",
       "   2: {'name': 'charmander',\n",
       "    'type': 'water',\n",
       "    'hp': 2000,\n",
       "    'attack': 200,\n",
       "    'defense': 100,\n",
       "    'special_defense': 150,\n",
       "    'special_attack': 160,\n",
       "    'speed': 350},\n",
       "   3: {'name': 'bulbasaur',\n",
       "    'type': 'poison',\n",
       "    'hp': 3000,\n",
       "    'attack': 300,\n",
       "    'defense': 150,\n",
       "    'special_defense': 200,\n",
       "    'special_attack': 240,\n",
       "    'speed': 450}}},\n",
       " 2: {'player_id': 2,\n",
       "  'player_name': 'ZID',\n",
       "  'time_played': '04.60',\n",
       "  'gyms_visited': ['github.com', 'quora.com', 'alcatraz', 'pacific_beach'],\n",
       "  'player_pokemon': {1: {'name': 'squirtle',\n",
       "    'type': 'fire',\n",
       "    'hp': 1000,\n",
       "    'attack': 100,\n",
       "    'defense': 50,\n",
       "    'special_attack': 80,\n",
       "    'special_defense': 150,\n",
       "    'speed': 250},\n",
       "   2: {'name': 'charmander',\n",
       "    'type': 'water',\n",
       "    'hp': 2000,\n",
       "    'attack': 200,\n",
       "    'defense': 100,\n",
       "    'special_defense': 150,\n",
       "    'special_attack': 160,\n",
       "    'speed': 350},\n",
       "   3: {'name': 'bulbasaur',\n",
       "    'type': 'poison',\n",
       "    'hp': 3000,\n",
       "    'attack': 300,\n",
       "    'defense': 150,\n",
       "    'special_defense': 200,\n",
       "    'special_attack': 240,\n",
       "    'speed': 450}}}}"
      ]
     },
     "execution_count": 40,
     "metadata": {},
     "output_type": "execute_result"
    }
   ],
   "source": [
    "# <Option 1> 5.1 Modifying the value item 'name' with player 1 = 'squirtle' and player 2 = charmander and bulbasaur.\n",
    "\n",
    "\n",
    "pokedex = {   1 : {'name':'squirtle','type':'fire','hp': 1000, 'attack':100, 'defense':50, 'special_attack':80,'speed':250},\n",
    "              \n",
    "              2 : {'name':'charmander,bulbasaur','type':'water','hp': 2000, 'attack':200, 'defense':100, 'special_attack':160,'speed':350},\n",
    "              \n",
    "              3 : {'name':'bulbasaur','type':'poison','hp': 3000, 'attack':300, 'defense':150, 'special_attack':240,'speed':450}\n",
    "             \n",
    "          }\n",
    "\n",
    "# Printing the player_dictionary after adding the pokemon names.\n",
    "player_pokemon"
   ]
  },
  {
   "cell_type": "code",
   "execution_count": 41,
   "metadata": {},
   "outputs": [
    {
     "data": {
      "text/plain": [
       "{1: {'name': 'squirtle',\n",
       "  'type': 'fire',\n",
       "  'hp': 1000,\n",
       "  'attack': 100,\n",
       "  'defense': 50,\n",
       "  'special_attack': 80,\n",
       "  'speed': 250},\n",
       " 2: {'name': 'charmander,bulbasaur',\n",
       "  'type': 'water',\n",
       "  'hp': 2000,\n",
       "  'attack': 200,\n",
       "  'defense': 100,\n",
       "  'special_attack': 160,\n",
       "  'speed': 350}}"
      ]
     },
     "execution_count": 41,
     "metadata": {},
     "output_type": "execute_result"
    }
   ],
   "source": [
    "# <Method 2> 5.2 Print the players dictionary after adding the pokemon for each player. \n",
    "\n",
    "player_pokemon_updated = {}\n",
    "for k,v in pokedex.items():\n",
    "    if v['name'] == 'squirtle' or v['name'] == 'charmander,bulbasaur':\n",
    "        player_pokemon_updated[k] = v\n",
    "\n",
    "player_pokemon_updated"
   ]
  },
  {
   "cell_type": "markdown",
   "metadata": {},
   "source": [
    "## 6. What gyms have players visited?\n",
    "\n",
    "---\n",
    "### 6.1\n",
    "\n",
    "Write a for-loop that:\n",
    "\n",
    "1. Iterates through the `pokemon_gyms` list of gym locations you defined before.\n",
    "2. For each gym, iterate through each player in the `players` dictionary with a second, internal for-loop.\n",
    "3. If the player has visited the gym, print out \"[player] has visited [gym location].\", filling in [player] and [gym location] with the current player's name and current gym location."
   ]
  },
  {
   "cell_type": "code",
   "execution_count": 11,
   "metadata": {},
   "outputs": [
    {
     "name": "stdout",
     "output_type": "stream",
     "text": [
      "RAY has visited ['github.com', 'quora.com']\n",
      "ZID has visited ['github.com', 'quora.com', 'alcatraz', 'pacific_beach']\n",
      "RAY has visited ['github.com', 'quora.com']\n",
      "ZID has visited ['github.com', 'quora.com', 'alcatraz', 'pacific_beach']\n",
      "RAY has visited ['github.com', 'quora.com']\n",
      "ZID has visited ['github.com', 'quora.com', 'alcatraz', 'pacific_beach']\n",
      "RAY has visited ['github.com', 'quora.com']\n",
      "ZID has visited ['github.com', 'quora.com', 'alcatraz', 'pacific_beach']\n",
      "RAY has visited ['github.com', 'quora.com']\n",
      "ZID has visited ['github.com', 'quora.com', 'alcatraz', 'pacific_beach']\n",
      "RAY has visited ['github.com', 'quora.com']\n",
      "ZID has visited ['github.com', 'quora.com', 'alcatraz', 'pacific_beach']\n",
      "RAY has visited ['github.com', 'quora.com']\n",
      "ZID has visited ['github.com', 'quora.com', 'alcatraz', 'pacific_beach']\n",
      "RAY has visited ['github.com', 'quora.com']\n",
      "ZID has visited ['github.com', 'quora.com', 'alcatraz', 'pacific_beach']\n",
      "RAY has visited ['github.com', 'quora.com']\n",
      "ZID has visited ['github.com', 'quora.com', 'alcatraz', 'pacific_beach']\n",
      "RAY has visited ['github.com', 'quora.com']\n",
      "ZID has visited ['github.com', 'quora.com', 'alcatraz', 'pacific_beach']\n",
      "20\n"
     ]
    }
   ],
   "source": [
    "# 6.1 To print player has visited the gym location using for-loops\n",
    "\n",
    "loop_count = 0\n",
    "\n",
    "for g_id, g_val in enumerate(gyms):\n",
    "    #print(g_id)\n",
    "    #print(g_val)\n",
    "      \n",
    "    for p_id,p_val in player_pokemon.items():\n",
    "        #print(\"player id: \" + str(p_id))\n",
    "        #print(p_val)\n",
    "        loop_count += 1\n",
    "        \n",
    "        if str(player_pokemon[p_id]['gyms_visited']) and g_val:\n",
    "            print(player_pokemon[p_id]['player_name'] + ' has visited '+ str(player_pokemon[p_id]['gyms_visited']))\n",
    "            \n",
    "print (loop_count)\n",
    "        "
   ]
  },
  {
   "cell_type": "markdown",
   "metadata": {},
   "source": [
    "### 6.2\n",
    "\n",
    "How many times did that loop run? If you have N gyms and also N players, how many times would it run as a function of N?\n",
    "\n",
    "Can you think of a more efficient way to accomplish the same thing? \n",
    "\n",
    "(You can write your answer as Markdown text.)"
   ]
  },
  {
   "cell_type": "markdown",
   "metadata": {
    "collapsed": true
   },
   "source": [
    "Loop count = 20"
   ]
  },
  {
   "cell_type": "markdown",
   "metadata": {},
   "source": [
    "## 7. Calculate player \"power\".\n",
    "\n",
    "---\n",
    "\n",
    "Define a function that will calculate a player's \"power\". Player power is defined as the sum of the base statistics all of their pokemon.\n",
    "\n",
    "Your function will:\n",
    "\n",
    "1. Accept the `players` dictionary, `pokedex` dictionary, and a player_id as arguments.\n",
    "2. For the specified player_id, look up that player's pokemon and their level(s).\n",
    "3. Find and aggregate the attack and defense values for each of the player's pokemon from the `pokedex` dictionary.\n",
    "4. Print \"[player name]'s power is [player power].\", where the player power is the sum of the base statistics for all of their pokemon.\n",
    "5. Return the player's power value.\n",
    "\n",
    "Print out the pokemon power for each of your players."
   ]
  },
  {
   "cell_type": "code",
   "execution_count": 12,
   "metadata": {},
   "outputs": [
    {
     "name": "stdout",
     "output_type": "stream",
     "text": [
      "RAY's power is 8430.\n",
      "ZID's power is 8430.\n"
     ]
    },
    {
     "data": {
      "text/plain": [
       "8430"
      ]
     },
     "execution_count": 12,
     "metadata": {},
     "output_type": "execute_result"
    }
   ],
   "source": [
    "# Defining function to calculate player power.\n",
    "\n",
    "def player_power(player_pokemon, pokedex, player_id):\n",
    "    player_pokemon_dict = player_pokemon[player_id]\n",
    "    player_pokemon_name = player_pokemon_dict['player_name']\n",
    "    \n",
    "    stats = []\n",
    "    for pokemon, level in player_pokemon_dict['player_pokemon'].items():\n",
    "        hp = pokedex[pokemon]['hp']\n",
    "        attack = pokedex[pokemon]['attack']\n",
    "        defense = pokedex[pokemon]['defense']\n",
    "        special_attack = pokedex[pokemon]['special_attack']\n",
    "        #special_defense = pokedex[pokemon]['special_defense']\n",
    "        speed = pokedex[pokemon]['speed']\n",
    "        \n",
    "        stats.extend([hp, attack, defense, special_attack,speed])\n",
    "        \n",
    "    power = sum(stats)\n",
    "    print(player_pokemon_name +\"'s power is \"+str(power)+'.')\n",
    "    \n",
    "    return power\n",
    "\n",
    "player_power(player_pokemon, pokedex, 1)\n",
    "player_power(player_pokemon, pokedex, 2)"
   ]
  },
  {
   "cell_type": "markdown",
   "metadata": {
    "collapsed": true
   },
   "source": [
    "## 8. Load a pokedex file containing all the pokemon\n",
    "\n",
    "---\n",
    "\n",
    "### 8.1\n",
    "\n",
    "While you were putting together the prototype code, your colleagues were preparing a dataset of Pokemon and their attributes. (This was a rush job, so they may have picked some crazy values for some...)\n",
    "\n",
    "The code below loads information from a comma separated value (csv) file. You need to parse this string into a more useable format. The format of the string is:\n",
    "\n",
    "- Rows are separated by newline characters: \\n\n",
    "- Columns are separated by commas: ,\n",
    "- All cells in the csv are double quoted. Ex: \"PokedexNumber\" is the first cell of the first row.\n",
    "\n",
    "\n",
    "Using for-loops, create a list of lists where each list within the overall list is a row of the csv/matrix, and each element in that list is a cell in that row. Additional criteria:\n",
    "\n",
    "1. Quotes are removed from each cell item.\n",
    "2. Numeric column values are converted to floats.\n",
    "3. There are some cells that are empty and have no information. For these cells put a -1 value in place.\n",
    "\n",
    "Your end result is effectively a matrix. Each list in the outer list is a row, and the *j*th elements of list together form the *j*th column, which represents a data attribute. The first three lists in your pokedex list should look like this:\n",
    "\n",
    "    ['PokedexNumber', 'Name', 'Type', 'Total', 'HP', 'Attack', 'Defense', 'SpecialAttack', 'SpecialDefense', 'Speed']\n",
    "    [1.0, 'Bulbasaur', 'GrassPoison', 318.0, 45.0, 49.0, 49.0, 65.0, 65.0, 45.0]\n",
    "    [2.0, 'Ivysaur', 'GrassPoison', 405.0, 60.0, 62.0, 63.0, 80.0, 80.0, 60.0]"
   ]
  },
  {
   "cell_type": "code",
   "execution_count": 13,
   "metadata": {},
   "outputs": [
    {
     "data": {
      "text/html": [
       "<div>\n",
       "<style scoped>\n",
       "    .dataframe tbody tr th:only-of-type {\n",
       "        vertical-align: middle;\n",
       "    }\n",
       "\n",
       "    .dataframe tbody tr th {\n",
       "        vertical-align: top;\n",
       "    }\n",
       "\n",
       "    .dataframe thead th {\n",
       "        text-align: right;\n",
       "    }\n",
       "</style>\n",
       "<table border=\"1\" class=\"dataframe\">\n",
       "  <thead>\n",
       "    <tr style=\"text-align: right;\">\n",
       "      <th></th>\n",
       "      <th>Name</th>\n",
       "      <th>Type</th>\n",
       "      <th>Total</th>\n",
       "      <th>HP</th>\n",
       "      <th>Attack</th>\n",
       "      <th>Defense</th>\n",
       "      <th>SpecialAttack</th>\n",
       "      <th>SpecialDefense</th>\n",
       "      <th>Speed</th>\n",
       "    </tr>\n",
       "    <tr>\n",
       "      <th>PokedexNumber</th>\n",
       "      <th></th>\n",
       "      <th></th>\n",
       "      <th></th>\n",
       "      <th></th>\n",
       "      <th></th>\n",
       "      <th></th>\n",
       "      <th></th>\n",
       "      <th></th>\n",
       "      <th></th>\n",
       "    </tr>\n",
       "  </thead>\n",
       "  <tbody>\n",
       "    <tr>\n",
       "      <th>1</th>\n",
       "      <td>Bulbasaur</td>\n",
       "      <td>GrassPoison</td>\n",
       "      <td>318.0</td>\n",
       "      <td>45.0</td>\n",
       "      <td>49.0</td>\n",
       "      <td>49.0</td>\n",
       "      <td>65.0</td>\n",
       "      <td>65.0</td>\n",
       "      <td>45.0</td>\n",
       "    </tr>\n",
       "    <tr>\n",
       "      <th>2</th>\n",
       "      <td>Ivysaur</td>\n",
       "      <td>GrassPoison</td>\n",
       "      <td>405.0</td>\n",
       "      <td>60.0</td>\n",
       "      <td>62.0</td>\n",
       "      <td>63.0</td>\n",
       "      <td>80.0</td>\n",
       "      <td>80.0</td>\n",
       "      <td>60.0</td>\n",
       "    </tr>\n",
       "    <tr>\n",
       "      <th>3</th>\n",
       "      <td>Venusaur</td>\n",
       "      <td>GrassPoison</td>\n",
       "      <td>525.0</td>\n",
       "      <td>80.0</td>\n",
       "      <td>82.0</td>\n",
       "      <td>83.0</td>\n",
       "      <td>100.0</td>\n",
       "      <td>100.0</td>\n",
       "      <td>80.0</td>\n",
       "    </tr>\n",
       "    <tr>\n",
       "      <th>3</th>\n",
       "      <td>VenusaurMega Venusaur</td>\n",
       "      <td>GrassPoison</td>\n",
       "      <td>625.0</td>\n",
       "      <td>80.0</td>\n",
       "      <td>100.0</td>\n",
       "      <td>123.0</td>\n",
       "      <td>122.0</td>\n",
       "      <td>120.0</td>\n",
       "      <td>80.0</td>\n",
       "    </tr>\n",
       "    <tr>\n",
       "      <th>4</th>\n",
       "      <td>Charmander</td>\n",
       "      <td>Fire</td>\n",
       "      <td>309.0</td>\n",
       "      <td>39.0</td>\n",
       "      <td>52.0</td>\n",
       "      <td>43.0</td>\n",
       "      <td>60.0</td>\n",
       "      <td>50.0</td>\n",
       "      <td>65.0</td>\n",
       "    </tr>\n",
       "  </tbody>\n",
       "</table>\n",
       "</div>"
      ],
      "text/plain": [
       "                                Name         Type  Total    HP  Attack  \\\n",
       "PokedexNumber                                                            \n",
       "1                          Bulbasaur  GrassPoison  318.0  45.0    49.0   \n",
       "2                            Ivysaur  GrassPoison  405.0  60.0    62.0   \n",
       "3                           Venusaur  GrassPoison  525.0  80.0    82.0   \n",
       "3              VenusaurMega Venusaur  GrassPoison  625.0  80.0   100.0   \n",
       "4                         Charmander         Fire  309.0  39.0    52.0   \n",
       "\n",
       "               Defense  SpecialAttack  SpecialDefense  Speed  \n",
       "PokedexNumber                                                 \n",
       "1                 49.0           65.0            65.0   45.0  \n",
       "2                 63.0           80.0            80.0   60.0  \n",
       "3                 83.0          100.0           100.0   80.0  \n",
       "3                123.0          122.0           120.0   80.0  \n",
       "4                 43.0           60.0            50.0   65.0  "
      ]
     },
     "execution_count": 13,
     "metadata": {},
     "output_type": "execute_result"
    }
   ],
   "source": [
    "# 8.1 Loading the pokedex_basic.csv file using pandas and reading all the pokemon info in a table format.\n",
    "\n",
    "import pandas as pd\n",
    "import numpy as np\n",
    "\n",
    "\n",
    "clean_pd = pd.read_csv('pokedex_basic.csv', na_values=[-1], index_col=[0])\n",
    "\n",
    "clean_pd.iloc[:, 2:] = clean_pd.iloc[:, 2:].astype(np.float64)\n",
    "\n",
    "clean_pd.head()\n"
   ]
  },
  {
   "cell_type": "markdown",
   "metadata": {},
   "source": [
    "### 8.2 Parse the raw pokedex with list comprehensions\n",
    "\n",
    "---\n",
    "\n",
    "Perform the same parsing as above, but **using only a single list comprehension** instead of for loops. You may have nested list comprehensions within the main list comprehension! The output should be exactly the same."
   ]
  },
  {
   "cell_type": "markdown",
   "metadata": {},
   "source": [
    "No list comprehensions as used pandas package for above solution."
   ]
  },
  {
   "cell_type": "markdown",
   "metadata": {},
   "source": [
    "## 9. Write a function to generate the full pokedex\n",
    "\n",
    "---\n",
    "\n",
    "Write a function that recreates the pokedex you made before, but with the data read in from the full pokemon file. The `PokedexNumber` should be used as the `pokemon_id` key values for the dictionary of pokemon.\n",
    "\n",
    "Your function should:\n",
    "\n",
    "1. Take the parsed pokedex information you created above as an argument.\n",
    "2. Return a dictionary in the same format as your original pokedex you created before containing the information from the parsed full pokedex file.\n",
    "\n",
    "To test the function, print out the pokemon with id = 100."
   ]
  },
  {
   "cell_type": "code",
   "execution_count": 21,
   "metadata": {},
   "outputs": [
    {
     "name": "stdout",
     "output_type": "stream",
     "text": [
      "800\n"
     ]
    }
   ],
   "source": [
    "# Recreating a new pokedex dictionary\n",
    "\n",
    "import pandas as pd\n",
    "\n",
    "pokedex_data = pd.read_csv('pokedex_basic.csv', index_col = None, skiprows = 0).to_dict('index')\n",
    "\n",
    "# Test the function with pokemon_id = 100\n",
    "\n",
    "pokedex_data[100]\n",
    "#pokedex_data[100]['Name']\n",
    "\n",
    "count = 0\n",
    "for i,c in pokedex_data.items():\n",
    "    #print(i)\n",
    "    #print(c)\n",
    "    count += 1\n",
    "\n",
    "print(count)"
   ]
  },
  {
   "cell_type": "markdown",
   "metadata": {},
   "source": [
    "## 10. Write a function to generate a \"filtered\" pokedex\n",
    "---\n",
    "Your function should:\n",
    "1. Take the parsed pokedex information you created above as an argument.\n",
    "1. Take a dictionary as a parameter with keys matching the features of the Pokedex, filtering by exact match for string type values, and/or filter continuous variables specified value that is greater than or equal to the dictionary key parameter.\n",
    "1. Return multiple elements from the Pokedex\n",
    "\n",
    "Example:\n",
    "\n",
    "```python\n",
    "\n",
    "# Only filter based on parameters passed\n",
    "filter_options = {\n",
    "    'Attack':   25,\n",
    "    'Defense':  30,\n",
    "    'Type':     'Electric'\n",
    "}\n",
    "\n",
    "# Return records with attack >= 24, defense >= 30, and type == \"Electric\"\n",
    "# Also anticipate that other paramters can also be passed such as \"SpecialAttack\", \"Speed\", etc.\n",
    "filtered_pokedex(pokedex_data, filter=filter_options)\n",
    "\n",
    "# Example output:\n",
    "# [{'Attack': 30.0,\n",
    "#  'Defense': 50.0,\n",
    "#  'HP': 40.0,\n",
    "#  'Name': 'Voltorb',\n",
    "#  'SpecialAttack': 55.0,\n",
    "#  'SpecialDefense': 55.0,\n",
    "#  'Speed': 100.0,\n",
    "#  'Total': 330.0,\n",
    "#  'Type': 'Electric'},\n",
    "#  {'Attack': 30.0,\n",
    "#  'Defense': 33.0,\n",
    "#  'HP': 32.0,\n",
    "#  'Name': 'Pikachu',\n",
    "#  'SpecialAttack': 55.0,\n",
    "#  'SpecialDefense': 55.0,\n",
    "#  'Speed': 100.0,\n",
    "#  'Total': 330.0,\n",
    "#  'Type': 'Electric'},\n",
    "#  ... etc\n",
    "#  ]\n",
    "\n",
    "```\n",
    "\n"
   ]
  },
  {
   "cell_type": "code",
   "execution_count": 29,
   "metadata": {},
   "outputs": [
    {
     "name": "stdout",
     "output_type": "stream",
     "text": [
      "Attack >= 25\n",
      "Attack >= 25 & Defense >= 30\n",
      "                     Name      Type  Total    HP  Attack  Defense  \\\n",
      "PokedexNumber                                                       \n",
      "25                Pikachu  Electric  320.0  35.0    55.0     40.0   \n",
      "26                 Raichu  Electric  485.0  60.0    90.0     55.0   \n",
      "100               Voltorb  Electric  330.0  40.0    30.0     50.0   \n",
      "101             Electrode  Electric  480.0  60.0    50.0     70.0   \n",
      "125            Electabuzz  Electric  490.0  65.0    83.0     57.0   \n",
      "\n",
      "               SpecialAttack  SpecialDefense  Speed  \n",
      "PokedexNumber                                        \n",
      "25                      50.0            50.0   90.0  \n",
      "26                      90.0            80.0  110.0  \n",
      "100                     55.0            55.0  100.0  \n",
      "101                     80.0            80.0  140.0  \n",
      "125                     95.0            85.0  105.0  \n"
     ]
    }
   ],
   "source": [
    "# 10 Defining a function to filtered_pokedex to filter the pokedex information.\n",
    "\n",
    "import pandas as pd\n",
    "import numpy as np\n",
    "\n",
    "filter_options = {\n",
    "    'Attack':   25,\n",
    "    'Defense':  30,\n",
    "    'Type':     'Electric'\n",
    "}\n",
    "\n",
    "def filtered_pokedex(pokedex_data, filter=filter_options):\n",
    "    \n",
    "    counter = 0\n",
    "    match = ''\n",
    "    for key, value in filter_options.items():\n",
    "        #print (k)\n",
    "        #print (v)\n",
    "        #Check the filtered strings with if-elif-else statements check for a match.\n",
    "        if counter == 0:\n",
    "            match = str(key) + \" >= \" + str(value)\n",
    "            print (match)\n",
    "            \n",
    "        elif counter == 1:\n",
    "            match = match + ' & ' + str(key) + \" >= \" + str(value)\n",
    "            print (match)\n",
    "            \n",
    "        else:\n",
    "            match = match + ' & ' + str(key) + \" == \\'\" + str(value) + \"\\'\"\n",
    "        counter += 1\n",
    "        \n",
    "        \n",
    "    #print (match)\n",
    "    pokedex_data = pokedex_data.query(match)\n",
    "    print (pokedex_data.head())\n",
    "    \n",
    "    return\n",
    "\n",
    "\n",
    "filtered_pokedex(clean_pd)"
   ]
  },
  {
   "cell_type": "markdown",
   "metadata": {
    "collapsed": true
   },
   "source": [
    "## 11. Descriptive statistics on the prototype pokedex\n",
    "\n",
    "### 11.1\n",
    "\n",
    "What is the population mean and standard deviation of the \"Total\" attribute for all characters in the Pokedex?"
   ]
  },
  {
   "cell_type": "code",
   "execution_count": 16,
   "metadata": {},
   "outputs": [
    {
     "name": "stdout",
     "output_type": "stream",
     "text": [
      "'Mean of Total : 435.1275'\n",
      "'Standard Deviation of Total : 120.03706663134037'\n"
     ]
    }
   ],
   "source": [
    "# Calculating the mean and std dev\n",
    "\n",
    "import pandas as pd\n",
    "\n",
    "mean = clean_pd['Total'].mean()\n",
    "std = clean_pd['Total'].std()\n",
    "\n",
    "pprint ('Mean of Total : ' + str(mean))\n",
    "pprint ('Standard Deviation of Total : ' + str(std))"
   ]
  },
  {
   "cell_type": "markdown",
   "metadata": {},
   "source": [
    "### 11.2\n",
    "\n",
    "The game is no fun if the characters are wildly unbalanced! Are any characters \"overpowered\", which we'll define as having a \"Total\" more than three standard deviations from the population mean?"
   ]
  },
  {
   "cell_type": "code",
   "execution_count": 17,
   "metadata": {},
   "outputs": [
    {
     "name": "stdout",
     "output_type": "stream",
     "text": [
      "1 overpowered character(s) out of 800\n"
     ]
    }
   ],
   "source": [
    "over_powered = clean_pd[clean_pd['Total'] > (mean+std*3)]\n",
    "\n",
    "print (str(len(over_powered)) + \" overpowered character(s) out of \" + str(len(clean_pd)))"
   ]
  },
  {
   "cell_type": "markdown",
   "metadata": {},
   "source": [
    "## 10. Calibrate the frequency of Pokemon\n",
    "\n",
    "The design team wants you to make the powerful Pokemon rare, and the weaklings more common. How would you set the probability $p_i$ of finding Pokemon *i* each time a player visits a gym?\n",
    "\n",
    "Write a function that takes in a Pokedex number and returns a value $p_i$ for that character.\n",
    "\n",
    "Hint: there are many ways you could do this. What do _you_ think makes sense? Start with simplifying assumptions: for example, you could assume that the probabilities of encountering any two Pokemon on one visit to a gym are independent of each other."
   ]
  },
  {
   "cell_type": "code",
   "execution_count": 22,
   "metadata": {},
   "outputs": [],
   "source": [
    "# 10. Determine the rarest pokemon by calculating the pokemon with strongest Total and thn finding its probability.\n",
    "\n",
    "# Selecting data from label : 'Total' in the clean_pd as data frame holding the pokemon data from csv.\n",
    "total_column = clean_pd.loc[:,'Total']\n",
    "total_column.head()\n",
    "\n",
    "total_data = total_column.values\n",
    "#total_data\n",
    "total_sum = np.sum(total_data)\n",
    "#total_sum\n",
    "total_max = np.max(total_data)\n",
    "total_max\n",
    "\n",
    "# Multiply the calculation with 5% to avoid probability to be zero\n",
    "probability_outcome = (np.divide(total_max,total_sum))*0.005\n",
    "\n",
    "probability_outcome  = 1 - probability_outcome \n",
    "#print(probability_outcome)\n"
   ]
  },
  {
   "cell_type": "code",
   "execution_count": 23,
   "metadata": {},
   "outputs": [
    {
     "data": {
      "image/png": "[encoded data removed]",
      "text/plain": [
       "<Figure size 432x288 with 1 Axes>"
      ]
     },
     "metadata": {},
     "output_type": "display_data"
    },
    {
     "data": {
      "text/plain": [
       "<Figure size 432x288 with 0 Axes>"
      ]
     },
     "metadata": {},
     "output_type": "display_data"
    }
   ],
   "source": [
    "# Create histogram of life_exp data\n",
    "\n",
    "import matplotlib.pyplot as plt\n",
    "\n",
    "# Display histogram\n",
    "plt.hist(total_data)\n",
    "\n",
    "# Scaling the data using random function\n",
    "rng = np.random.RandomState(10)  # deterministic random data\n",
    "a = np.hstack((rng.normal(size=1000),rng.normal(loc=5, scale=2, size=1000)))\n",
    "\n",
    "# Adding title to the histogram\n",
    "plt.title(\"Plot for the rarest pokemon\")\n",
    "\n",
    "# Show and clean up plot\n",
    "plt.show()\n",
    "plt.clf()"
   ]
  },
  {
   "cell_type": "code",
   "execution_count": null,
   "metadata": {},
   "outputs": [],
   "source": []
  }
 ],
 "metadata": {
  "anaconda-cloud": {},
  "kernelspec": {
   "display_name": "Python 3",
   "language": "python",
   "name": "python3"
  },
  "language_info": {
   "codemirror_mode": {
    "name": "ipython",
    "version": 3
   },
   "file_extension": ".py",
   "mimetype": "text/x-python",
   "name": "python",
   "nbconvert_exporter": "python",
   "pygments_lexer": "ipython3",
   "version": "3.6.5"
  }
 },
 "nbformat": 4,
 "nbformat_minor": 1
}
